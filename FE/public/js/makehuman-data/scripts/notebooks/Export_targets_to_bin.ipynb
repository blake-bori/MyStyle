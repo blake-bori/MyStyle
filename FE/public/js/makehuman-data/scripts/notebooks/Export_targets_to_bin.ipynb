{
 "cells": [
  {
   "cell_type": "markdown",
   "metadata": {},
   "source": [
    "Here I try saving the targets as a sparse array (so they can be reasonably stored in the browser)\n",
    "\n",
    "In the end sparse array were larger so I tried a normal array but this crashes the browser. I found that a binary file of Int16 works OK, as long as I load it as Int16."
   ]
  },
  {
   "cell_type": "code",
   "execution_count": 1,
   "metadata": {
    "ExecuteTime": {
     "end_time": "2016-11-19T06:55:21.675138",
     "start_time": "2016-11-19T06:55:21.286350"
    },
    "collapsed": false
   },
   "outputs": [],
   "source": [
    "from tqdm import tqdm\n",
    "from path import Path\n",
    "import json\n",
    "import time\n",
    "from pprint import pprint\n",
    "\n",
    "import numpy as np\n",
    "import pandas as pd\n",
    "import re\n",
    "import logging\n",
    "\n",
    "basedir=r'/media/isisilon/Data/My_Documents/Documents/eclipse-workspace/bb2/mhwebui2/mhwebui2/scripts/'\n",
    "mhpath = Path(os.path.abspath(\"../vendor/makehuman-commandline/makehuman\"))\n"
   ]
  },
  {
   "cell_type": "code",
   "execution_count": 2,
   "metadata": {
    "ExecuteTime": {
     "end_time": "2016-11-19T06:55:27.481079",
     "start_time": "2016-11-19T06:55:21.676788"
    },
    "collapsed": false
   },
   "outputs": [
    {
     "name": "stderr",
     "output_type": "stream",
     "text": [
      "Initialized logging\n"
     ]
    }
   ],
   "source": [
    "# from .mh_helpers import clean, short_hash, clean_modifier\n",
    "\n",
    "\n",
    "\n",
    "\n",
    "#===============================================================================\n",
    "# Import Makehuman resources, needs to be with makehuman dir as current dir\n",
    "#===============================================================================\n",
    "\n",
    "appcwd = os.path.abspath(os.curdir)\n",
    "sys.path.append(mhpath)\n",
    "sys.path.append(appcwd)\n",
    "sys.path.append('.')\n",
    "\n",
    "def getHuman():\n",
    "    \"\"\"Load a human model with modifiers.\"\"\"\n",
    "    with mhpath:\n",
    "        # maxFaces *uint* Number of faces per vertex (pole), None for default (min 4)\n",
    "        human = Human(files3d.loadMesh(\n",
    "            getpath.getSysDataPath(\"3dobjs/base.obj\"),\n",
    "            maxFaces=5))\n",
    "        # load modifiers onto human\n",
    "        humanmodifier.mods_loaded = False\n",
    "        modifiers = humanmodifier.loadModifiers(\n",
    "            getpath.getSysDataPath('modifiers/modeling_modifiers.json'), human)\n",
    "        return human\n",
    "\n",
    "with mhpath:\n",
    "    import makehuman\n",
    "    oldpath = os.sys.path\n",
    "    makehuman.set_sys_path()\n",
    "    # make makehuman paths absolute by going through newest paths and making abs\n",
    "    for i in range(len(os.sys.path)):\n",
    "        p = os.sys.path[i]\n",
    "        if p[0:2] == './':\n",
    "            os.sys.path[i] = os.path.join(\n",
    "                os.path.abspath('.'), p.replace('./', ''))\n",
    "        else:\n",
    "            break\n",
    "\n",
    "    makehuman.init_logging()\n",
    "    logging.getLogger().setLevel(logging.CRITICAL)\n",
    "    \n",
    "    import proxy as mhproxy\n",
    "    import humanargparser\n",
    "    import targets as mhtargets\n",
    "    from human import Human\n",
    "    import files3d\n",
    "    import algos3d\n",
    "    import getpath\n",
    "    import humanmodifier\n",
    "    from core import G\n",
    "    import headless\n",
    "    import autoskinblender\n",
    "    import export\n",
    "    \n",
    "    # Init console app\n",
    "    with mhpath:\n",
    "        G.app = headless.ConsoleApp()\n",
    "    G.app.selectedHuman = human = getHuman()\n",
    "    headless.OBJExporter = None\n",
    "    headless.MHXExporter = None\n",
    "    headless.MhxConfig = None\n",
    "    humanargparser.mods_loaded = False\n"
   ]
  },
  {
   "cell_type": "code",
   "execution_count": 4,
   "metadata": {
    "ExecuteTime": {
     "end_time": "2016-11-19T06:55:27.506173",
     "start_time": "2016-11-19T06:55:27.485736"
    },
    "collapsed": false
   },
   "outputs": [
    {
     "data": {
      "text/plain": [
       "1258"
      ]
     },
     "execution_count": 4,
     "metadata": {},
     "output_type": "execute_result"
    }
   ],
   "source": [
    "targets = mhtargets.getTargets()\n",
    "target_files = sorted([t.path for t in targets.targets])\n",
    "len(target_files)"
   ]
  },
  {
   "cell_type": "code",
   "execution_count": 5,
   "metadata": {
    "ExecuteTime": {
     "end_time": "2016-11-19T06:55:30.620214",
     "start_time": "2016-11-19T06:55:27.507347"
    },
    "collapsed": false
   },
   "outputs": [],
   "source": [
    "human = getHuman()"
   ]
  },
  {
   "cell_type": "code",
   "execution_count": 6,
   "metadata": {
    "ExecuteTime": {
     "end_time": "2016-11-19T06:55:30.663834",
     "start_time": "2016-11-19T06:55:30.621917"
    },
    "collapsed": false
   },
   "outputs": [],
   "source": [
    "# load sparse matrix\n",
    "import scipy as sp\n",
    "from scipy.sparse import csr_matrix"
   ]
  },
  {
   "cell_type": "code",
   "execution_count": 41,
   "metadata": {
    "ExecuteTime": {
     "end_time": "2016-11-19T07:08:08.620561",
     "start_time": "2016-11-19T07:06:52.396272"
    },
    "collapsed": false
   },
   "outputs": [],
   "source": [
    "npzname = mhtargets.getSysDataPath('targets.npz') \n",
    "target_data = np.load(npzname)\n",
    "\n",
    "\n",
    "# load targets into sparse matrix\n",
    "row = []\n",
    "col = []\n",
    "data = []\n",
    "for i, target_path in enumerate(target_files):\n",
    "    index_key = target_path.replace('.target','.index').replace('data/','')\n",
    "    vector_key = target_path.replace('.target','.vector').replace('data/','')\n",
    "    inds = target_data[index_key]\n",
    "    d=target_data[vector_key]\n",
    "    \n",
    "    for ind,dd in zip(inds,d):\n",
    "        for v,ddd in enumerate(dd):\n",
    "            if ddd!=0:\n",
    "                col+=[i]\n",
    "                row+=[ind*3+v]\n",
    "                data+=[int(ddd)]"
   ]
  },
  {
   "cell_type": "code",
   "execution_count": 100,
   "metadata": {
    "ExecuteTime": {
     "end_time": "2016-11-19T08:50:58.263048",
     "start_time": "2016-11-19T08:50:55.441964"
    },
    "collapsed": true
   },
   "outputs": [],
   "source": [
    "n=len(human.mesh.coord)*3\n",
    "m=len(target_files)\n",
    "target_sparse = csr_matrix((data, (col,row)), shape=(m,n), dtype=np.int16).toarray()\n",
    "target_sparse.shape"
   ]
  },
  {
   "cell_type": "code",
   "execution_count": 20,
   "metadata": {
    "ExecuteTime": {
     "end_time": "2016-11-19T06:59:05.578444",
     "start_time": "2016-11-19T06:59:05.470737"
    },
    "collapsed": false
   },
   "outputs": [],
   "source": [
    "# test\n",
    "def calc_new_verts(target_weights):\n",
    "    \"\"\"calculate the change in vertices for a specific collection of targets\"\"\"\n",
    "    return np.dot(target_weights,target_sparse).reshape((-1,3)).astype(np.float32)*1e-3\n",
    "\n",
    "target_weights = np.random.random(target_sparse.shape[0])-0.5\n",
    "d_vert = calc_new_verts(target_weights)\n",
    "\n",
    "vertices_updates = (target_sparse.sum(0)>0).sum()# how many vertices updated\n",
    "assert vertices_updates>10000, 'shouldupdate more thank 10k vertices'\n",
    "assert (d_vert.sum(0)!=0).sum()==3, 'should update one of each vertice'"
   ]
  },
  {
   "cell_type": "code",
   "execution_count": 21,
   "metadata": {
    "ExecuteTime": {
     "end_time": "2016-11-19T06:59:10.857408",
     "start_time": "2016-11-19T06:59:10.612481"
    },
    "collapsed": false
   },
   "outputs": [],
   "source": [
    "# test\n",
    "n=80\n",
    "target_weights = np.zeros(target_sparse.shape[0])\n",
    "target_weights[n]=1\n",
    "d_vert = calc_new_verts(target_weights)\n",
    "\n",
    "# load a target manually and compare\n",
    "target_path = target_files[n]\n",
    "index_key = target_path.replace('.target','.index').replace('data/','')\n",
    "vector_key = target_path.replace('.target','.vector').replace('data/','')\n",
    "inds = target_data[index_key]\n",
    "d=target_data[vector_key]\n",
    "coords = np.zeros_like(human.mesh.coord)\n",
    "coords[inds]=d*1e-3\n",
    "\n",
    "np.testing.assert_array_almost_equal(coords, d_vert)"
   ]
  },
  {
   "cell_type": "code",
   "execution_count": 76,
   "metadata": {
    "ExecuteTime": {
     "end_time": "2016-11-19T08:43:12.343852",
     "start_time": "2016-11-19T08:43:12.147431"
    },
    "collapsed": true
   },
   "outputs": [],
   "source": [
    "with open('/tmp/targets_data.bin','wb') as fo:\n",
    "    fo.write(target_sparse.tobytes())"
   ]
  }
 ],
 "metadata": {
  "kernelspec": {
   "display_name": "Python 2",
   "language": "python",
   "name": "python2"
  },
  "language_info": {
   "codemirror_mode": {
    "name": "ipython",
    "version": 2
   },
   "file_extension": ".py",
   "mimetype": "text/x-python",
   "name": "python",
   "nbconvert_exporter": "python",
   "pygments_lexer": "ipython2",
   "version": "2.7.9"
  }
 },
 "nbformat": 4,
 "nbformat_minor": 1
}
