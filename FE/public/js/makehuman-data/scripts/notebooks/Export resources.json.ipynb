{
 "cells": [
  {
   "cell_type": "code",
   "execution_count": 1,
   "metadata": {
    "ExecuteTime": {
     "end_time": "2016-11-28T14:29:08.366396",
     "start_time": "2016-11-28T14:29:08.039691"
    },
    "collapsed": true
   },
   "outputs": [],
   "source": [
    "from tqdm import tqdm\n",
    "from path import Path\n",
    "import json\n",
    "import time\n",
    "from pprint import pprint\n",
    "\n",
    "import numpy as np\n",
    "import pandas as pd\n",
    "import re\n",
    "\n",
    "\n",
    "from collections import OrderedDict\n",
    "import logging\n",
    "import tempfile\n",
    "import os\n",
    "\n",
    "basedir=Path(r'/media/isisilon/Data/My_Documents/Documents/eclipse-workspace/bb2/mhwebui2/mhwebui2/scripts/')"
   ]
  },
  {
   "cell_type": "code",
   "execution_count": 2,
   "metadata": {
    "ExecuteTime": {
     "end_time": "2016-11-28T14:29:08.387908",
     "start_time": "2016-11-28T14:29:08.368803"
    },
    "collapsed": false,
    "scrolled": true
   },
   "outputs": [
    {
     "data": {
      "text/plain": [
       "OrderedDict([('defaultSkin',\n",
       "              u'young_caucasian_female/young_caucasian_female.json'),\n",
       "             ('baseUrl', u'data'),\n",
       "             ('s', 1),\n",
       "             ('y', 0),\n",
       "             ('x', 0),\n",
       "             ('z', 0),\n",
       "             (u'proxies',\n",
       "              [u'clothes/fedora.json',\n",
       "               u'clothes/fedora_cocked.json',\n",
       "               u'clothes/female_casualsuit01.json',\n",
       "               u'clothes/female_casualsuit02.json',\n",
       "               u'clothes/female_elegantsuit01.json',\n",
       "               u'clothes/female_sportsuit01.json',\n",
       "               u'clothes/male_casualsuit01.json',\n",
       "               u'clothes/male_casualsuit02.json',\n",
       "               u'clothes/male_casualsuit03.json',\n",
       "               u'clothes/male_casualsuit04.json',\n",
       "               u'clothes/male_casualsuit05.json',\n",
       "               u'clothes/male_casualsuit06.json',\n",
       "               u'clothes/male_elegantsuit01.json',\n",
       "               u'clothes/male_worksuit01.json',\n",
       "               u'clothes/shoes01.json',\n",
       "               u'clothes/shoes02.json',\n",
       "               u'clothes/shoes03.json',\n",
       "               u'clothes/shoes04.json',\n",
       "               u'clothes/shoes05.json',\n",
       "               u'clothes/shoes06.json',\n",
       "               u'eyebrows/eyebrow001.json',\n",
       "               u'eyebrows/eyebrow002.json',\n",
       "               u'eyebrows/eyebrow003.json',\n",
       "               u'eyebrows/eyebrow004.json',\n",
       "               u'eyebrows/eyebrow005.json',\n",
       "               u'eyebrows/eyebrow006.json',\n",
       "               u'eyebrows/eyebrow007.json',\n",
       "               u'eyebrows/eyebrow008.json',\n",
       "               u'eyebrows/eyebrow009.json',\n",
       "               u'eyebrows/eyebrow010.json',\n",
       "               u'eyebrows/eyebrow011.json',\n",
       "               u'eyebrows/eyebrow012.json',\n",
       "               u'eyelashes/Eyelashes01.json',\n",
       "               u'eyelashes/eyelashes02.json',\n",
       "               u'eyelashes/eyelashes03.json',\n",
       "               u'eyelashes/eyelashes04.json',\n",
       "               u'eyes/HighPolyEyes.json',\n",
       "               u'eyes/Low-Poly.json',\n",
       "               u'hair/Braid01.json',\n",
       "               u'hair/afro01.json',\n",
       "               u'hair/bob01.json',\n",
       "               u'hair/bob02.json',\n",
       "               u'hair/long01.json',\n",
       "               u'hair/ponytail01.json',\n",
       "               u'hair/short01.json',\n",
       "               u'hair/short02.json',\n",
       "               u'hair/short03.json',\n",
       "               u'hair/short04.json',\n",
       "               u'teeth/Teeth_Base.json',\n",
       "               u'teeth/Teeth_Shape01.json',\n",
       "               u'teeth/Teeth_Shape02.json',\n",
       "               u'teeth/Teeth_Shape03.json',\n",
       "               u'teeth/Teeth_Shape04.json',\n",
       "               u'teeth/Teeth_Shape05.json',\n",
       "               u'tongue/tongue01.json']),\n",
       "             (u'skins',\n",
       "              [u'default.json',\n",
       "               u'middleage_african_female/middleage_african_female.json',\n",
       "               u'middleage_african_male/middleage_african_male.json',\n",
       "               u'middleage_asian_female/middleage_asian_female.json',\n",
       "               u'middleage_asian_male/middleage_asian_male.json',\n",
       "               u'middleage_caucasian_female/middleage_caucasian_female.json',\n",
       "               u'middleage_caucasian_male/middleage_caucasian_male.json',\n",
       "               u'old_african_female/old_african_female.json',\n",
       "               u'old_african_male/old_african_male.json',\n",
       "               u'old_asian_female/old_asian_female.json',\n",
       "               u'old_asian_male/old_asian_male.json',\n",
       "               u'old_caucasian_female/old_caucasian_female.json',\n",
       "               u'old_caucasian_male/old_caucasian_male.json',\n",
       "               u'toon01/toon01.json',\n",
       "               u'young_african_female/young_african_female.json',\n",
       "               u'young_african_male/young_african_male.json',\n",
       "               u'young_asian_female/young_asian_female.json',\n",
       "               u'young_asian_male/young_asian_male.json',\n",
       "               u'young_caucasian_female/young_caucasian_female.json',\n",
       "               u'young_caucasian_female/young_caucasian_female2.json',\n",
       "               u'young_caucasian_female/young_caucasian_female_special_suit.json',\n",
       "               u'young_caucasian_male/young_caucasian_male.json',\n",
       "               u'young_caucasian_male/young_caucasian_male2.json',\n",
       "               u'young_caucasian_male/young_caucasian_male_special_suit.json']),\n",
       "             (u'model', u'human_full_size.json'),\n",
       "             (u'targets', u'targets.bin')])"
      ]
     },
     "execution_count": 2,
     "metadata": {},
     "output_type": "execute_result"
    }
   ],
   "source": [
    "infile = basedir.joinpath('..', 'public', 'data', 'resources.json')\n",
    "data = OrderedDict({\n",
    "    \"s\": 1,\n",
    "    \"z\": 0,\n",
    "    \"y\": 0,\n",
    "    \"x\": 0,\n",
    "    \"defaultSkin\": \"young_caucasian_female/young_caucasian_female.json\",\n",
    "    \"baseUrl\": \"data/\"\n",
    "})\n",
    "indata = json.load(open(infile))\n",
    "data.update(indata)\n",
    "data"
   ]
  },
  {
   "cell_type": "code",
   "execution_count": 9,
   "metadata": {
    "ExecuteTime": {
     "end_time": "2016-11-28T14:49:10.264560",
     "start_time": "2016-11-28T14:49:10.252029"
    },
    "collapsed": false
   },
   "outputs": [],
   "source": [
    "# write list of all proxies\n",
    "# add this to test.config\n",
    "files=[]\n",
    "outdir = basedir.joinpath('..','public','data','skins')\n",
    "for dirName, subdirList, fileList in os.walk(outdir):\n",
    "    for fname in fileList:\n",
    "        f,ext = os.path.splitext(fname)\n",
    "        if ext=='.json' and f!='index':\n",
    "            files.append(str(outdir.relpathto(os.path.join(dirName,fname))))\n",
    "\n",
    "data['skins']=sorted(files)"
   ]
  },
  {
   "cell_type": "code",
   "execution_count": 10,
   "metadata": {
    "ExecuteTime": {
     "end_time": "2016-11-28T14:49:10.756856",
     "start_time": "2016-11-28T14:49:10.418541"
    },
    "collapsed": false
   },
   "outputs": [
    {
     "data": {
      "text/plain": [
       "['clothes/Bikini/Bikini.json',\n",
       " 'clothes/fedora/fedora.json',\n",
       " 'clothes/fedora_cocked/fedora_cocked.json',\n",
       " 'clothes/female_casualsuit01/female_casualsuit01.json',\n",
       " 'clothes/female_casualsuit02/female_casualsuit02.json',\n",
       " 'clothes/female_elegantsuit01/female_elegantsuit01.json',\n",
       " 'clothes/female_sportsuit01/female_sportsuit01.json',\n",
       " 'clothes/male_casualsuit01/male_casualsuit01.json',\n",
       " 'clothes/male_casualsuit02/male_casualsuit02.json',\n",
       " 'clothes/male_casualsuit03/male_casualsuit03.json',\n",
       " 'clothes/male_casualsuit04/male_casualsuit04.json',\n",
       " 'clothes/male_casualsuit05/male_casualsuit05.json',\n",
       " 'clothes/male_casualsuit06/male_casualsuit06.json',\n",
       " 'clothes/male_elegantsuit01/male_elegantsuit01.json',\n",
       " 'clothes/male_worksuit01/male_worksuit01.json',\n",
       " 'clothes/Pajama/Pajama.json',\n",
       " 'clothes/shoes01/shoes01.json',\n",
       " 'clothes/shoes02/shoes02.json',\n",
       " 'clothes/shoes03/shoes03.json',\n",
       " 'clothes/shoes04/shoes04.json',\n",
       " 'clothes/shoes05/shoes05.json',\n",
       " 'clothes/shoes06/shoes06.json',\n",
       " 'eyebrows/eyebrow001/eyebrow001.json',\n",
       " 'eyebrows/eyebrow002/eyebrow002.json',\n",
       " 'eyebrows/eyebrow003/eyebrow003.json',\n",
       " 'eyebrows/eyebrow004/eyebrow004.json',\n",
       " 'eyebrows/eyebrow005/eyebrow005.json',\n",
       " 'eyebrows/eyebrow006/eyebrow006.json',\n",
       " 'eyebrows/eyebrow007/eyebrow007.json',\n",
       " 'eyebrows/eyebrow008/eyebrow008.json',\n",
       " 'eyebrows/eyebrow009/eyebrow009.json',\n",
       " 'eyebrows/eyebrow010/eyebrow010.json',\n",
       " 'eyebrows/eyebrow011/eyebrow011.json',\n",
       " 'eyebrows/eyebrow012/eyebrow012.json',\n",
       " 'eyelashes/Eyelashes01/Eyelashes01.json',\n",
       " 'eyelashes/eyelashes02/eyelashes02.json',\n",
       " 'eyelashes/eyelashes03/eyelashes03.json',\n",
       " 'eyelashes/eyelashes04/eyelashes04.json',\n",
       " 'eyes/HighPolyEyes/HighPolyEyes.json',\n",
       " 'eyes/Low-Poly/Low-Poly.json',\n",
       " 'genitals/penis01/penis01.json',\n",
       " 'hair/afro01/afro01.json',\n",
       " 'hair/bob01/bob01.json',\n",
       " 'hair/bob02/bob02.json',\n",
       " 'hair/Braid01/Braid01.json',\n",
       " 'hair/long01/long01.json',\n",
       " 'hair/ponytail01/ponytail01.json',\n",
       " 'hair/short01/short01.json',\n",
       " 'hair/short02/short02.json',\n",
       " 'hair/short03/short03.json',\n",
       " 'hair/short04/short04.json',\n",
       " 'teeth/Teeth_Base/Teeth_Base.json',\n",
       " 'teeth/Teeth_Shape01/Teeth_Shape01.json',\n",
       " 'teeth/Teeth_Shape02/Teeth_Shape02.json',\n",
       " 'teeth/Teeth_Shape03/Teeth_Shape03.json',\n",
       " 'teeth/Teeth_Shape04/Teeth_Shape04.json',\n",
       " 'teeth/Teeth_Shape05/Teeth_Shape05.json',\n",
       " 'tongue/tongue01/tongue01.json']"
      ]
     },
     "execution_count": 10,
     "metadata": {},
     "output_type": "execute_result"
    }
   ],
   "source": [
    "# write list of all proxies\n",
    "# add this to test.config\n",
    "files=[]\n",
    "outdir = basedir.joinpath('..','public','data','proxies')\n",
    "for dirName, subdirList, fileList in os.walk(outdir):\n",
    "    for fname in fileList:\n",
    "        f,ext = os.path.splitext(fname)\n",
    "        if ext=='.json' and f!='index':\n",
    "            files.append(str(outdir.relpathto(os.path.join(dirName,fname))))\n",
    "\n",
    "data['proxies']=sorted(files)\n",
    "files"
   ]
  },
  {
   "cell_type": "code",
   "execution_count": 11,
   "metadata": {
    "ExecuteTime": {
     "end_time": "2016-11-28T14:49:11.653365",
     "start_time": "2016-11-28T14:49:10.758043"
    },
    "collapsed": false
   },
   "outputs": [
    {
     "data": {
      "text/plain": [
       "['human_full_size.json']"
      ]
     },
     "execution_count": 11,
     "metadata": {},
     "output_type": "execute_result"
    }
   ],
   "source": [
    "# write list of all proxies\n",
    "# add this to test.config\n",
    "files=[]\n",
    "outdir = basedir.joinpath('..','public','data','models')\n",
    "for dirName, subdirList, fileList in os.walk(outdir):\n",
    "    for fname in fileList:\n",
    "        f,ext = os.path.splitext(fname)\n",
    "        if ext=='.json' and f!='index':\n",
    "            files.append(str(outdir.relpathto(os.path.join(dirName,fname))))\n",
    "\n",
    "data['model']=files[0]\n",
    "files"
   ]
  },
  {
   "cell_type": "code",
   "execution_count": 12,
   "metadata": {
    "ExecuteTime": {
     "end_time": "2016-11-28T14:49:12.120595",
     "start_time": "2016-11-28T14:49:11.654709"
    },
    "collapsed": false
   },
   "outputs": [
    {
     "data": {
      "text/plain": [
       "['targets.bin']"
      ]
     },
     "execution_count": 12,
     "metadata": {},
     "output_type": "execute_result"
    }
   ],
   "source": [
    "# write list of all proxies\n",
    "# add this to test.config\n",
    "files=[]\n",
    "outdir = basedir.joinpath('..','public','data','targets')\n",
    "for dirName, subdirList, fileList in os.walk(outdir):\n",
    "    for fname in fileList:\n",
    "        f,ext = os.path.splitext(fname)\n",
    "        if ext=='.bin' and f!='index':\n",
    "            files.append(str(outdir.relpathto(os.path.join(dirName,fname))))\n",
    "\n",
    "data['targets']=files[0]\n",
    "files"
   ]
  },
  {
   "cell_type": "code",
   "execution_count": 13,
   "metadata": {
    "ExecuteTime": {
     "end_time": "2016-11-28T14:49:12.586135",
     "start_time": "2016-11-28T14:49:12.122127"
    },
    "collapsed": false
   },
   "outputs": [
    {
     "data": {
      "text/plain": [
       "OrderedDict([('defaultSkin',\n",
       "              u'young_caucasian_female/young_caucasian_female.json'),\n",
       "             ('baseUrl', u'data'),\n",
       "             ('s', 1),\n",
       "             ('y', 0),\n",
       "             ('x', 0),\n",
       "             ('z', 0),\n",
       "             (u'proxies',\n",
       "              ['clothes/Bikini/Bikini.json',\n",
       "               'clothes/Pajama/Pajama.json',\n",
       "               'clothes/fedora/fedora.json',\n",
       "               'clothes/fedora_cocked/fedora_cocked.json',\n",
       "               'clothes/female_casualsuit01/female_casualsuit01.json',\n",
       "               'clothes/female_casualsuit02/female_casualsuit02.json',\n",
       "               'clothes/female_elegantsuit01/female_elegantsuit01.json',\n",
       "               'clothes/female_sportsuit01/female_sportsuit01.json',\n",
       "               'clothes/male_casualsuit01/male_casualsuit01.json',\n",
       "               'clothes/male_casualsuit02/male_casualsuit02.json',\n",
       "               'clothes/male_casualsuit03/male_casualsuit03.json',\n",
       "               'clothes/male_casualsuit04/male_casualsuit04.json',\n",
       "               'clothes/male_casualsuit05/male_casualsuit05.json',\n",
       "               'clothes/male_casualsuit06/male_casualsuit06.json',\n",
       "               'clothes/male_elegantsuit01/male_elegantsuit01.json',\n",
       "               'clothes/male_worksuit01/male_worksuit01.json',\n",
       "               'clothes/shoes01/shoes01.json',\n",
       "               'clothes/shoes02/shoes02.json',\n",
       "               'clothes/shoes03/shoes03.json',\n",
       "               'clothes/shoes04/shoes04.json',\n",
       "               'clothes/shoes05/shoes05.json',\n",
       "               'clothes/shoes06/shoes06.json',\n",
       "               'eyebrows/eyebrow001/eyebrow001.json',\n",
       "               'eyebrows/eyebrow002/eyebrow002.json',\n",
       "               'eyebrows/eyebrow003/eyebrow003.json',\n",
       "               'eyebrows/eyebrow004/eyebrow004.json',\n",
       "               'eyebrows/eyebrow005/eyebrow005.json',\n",
       "               'eyebrows/eyebrow006/eyebrow006.json',\n",
       "               'eyebrows/eyebrow007/eyebrow007.json',\n",
       "               'eyebrows/eyebrow008/eyebrow008.json',\n",
       "               'eyebrows/eyebrow009/eyebrow009.json',\n",
       "               'eyebrows/eyebrow010/eyebrow010.json',\n",
       "               'eyebrows/eyebrow011/eyebrow011.json',\n",
       "               'eyebrows/eyebrow012/eyebrow012.json',\n",
       "               'eyelashes/Eyelashes01/Eyelashes01.json',\n",
       "               'eyelashes/eyelashes02/eyelashes02.json',\n",
       "               'eyelashes/eyelashes03/eyelashes03.json',\n",
       "               'eyelashes/eyelashes04/eyelashes04.json',\n",
       "               'eyes/HighPolyEyes/HighPolyEyes.json',\n",
       "               'eyes/Low-Poly/Low-Poly.json',\n",
       "               'genitals/penis01/penis01.json',\n",
       "               'hair/Braid01/Braid01.json',\n",
       "               'hair/afro01/afro01.json',\n",
       "               'hair/bob01/bob01.json',\n",
       "               'hair/bob02/bob02.json',\n",
       "               'hair/long01/long01.json',\n",
       "               'hair/ponytail01/ponytail01.json',\n",
       "               'hair/short01/short01.json',\n",
       "               'hair/short02/short02.json',\n",
       "               'hair/short03/short03.json',\n",
       "               'hair/short04/short04.json',\n",
       "               'teeth/Teeth_Base/Teeth_Base.json',\n",
       "               'teeth/Teeth_Shape01/Teeth_Shape01.json',\n",
       "               'teeth/Teeth_Shape02/Teeth_Shape02.json',\n",
       "               'teeth/Teeth_Shape03/Teeth_Shape03.json',\n",
       "               'teeth/Teeth_Shape04/Teeth_Shape04.json',\n",
       "               'teeth/Teeth_Shape05/Teeth_Shape05.json',\n",
       "               'tongue/tongue01/tongue01.json']),\n",
       "             (u'skins',\n",
       "              ['default.json',\n",
       "               'middleage_african_female/middleage_african_female.json',\n",
       "               'middleage_african_male/middleage_african_male.json',\n",
       "               'middleage_asian_female/middleage_asian_female.json',\n",
       "               'middleage_asian_male/middleage_asian_male.json',\n",
       "               'middleage_caucasian_female/middleage_caucasian_female.json',\n",
       "               'middleage_caucasian_male/middleage_caucasian_male.json',\n",
       "               'old_african_female/old_african_female.json',\n",
       "               'old_african_male/old_african_male.json',\n",
       "               'old_asian_female/old_asian_female.json',\n",
       "               'old_asian_male/old_asian_male.json',\n",
       "               'old_caucasian_female/old_caucasian_female.json',\n",
       "               'old_caucasian_male/old_caucasian_male.json',\n",
       "               'toon01/toon01.json',\n",
       "               'young_african_female/young_african_female.json',\n",
       "               'young_african_male/young_african_male.json',\n",
       "               'young_asian_female/young_asian_female.json',\n",
       "               'young_asian_male/young_asian_male.json',\n",
       "               'young_caucasian_female/young_caucasian_female.json',\n",
       "               'young_caucasian_female/young_caucasian_female2.json',\n",
       "               'young_caucasian_female/young_caucasian_female_special_suit.json',\n",
       "               'young_caucasian_male/young_caucasian_male.json',\n",
       "               'young_caucasian_male/young_caucasian_male2.json',\n",
       "               'young_caucasian_male/young_caucasian_male_special_suit.json']),\n",
       "             (u'model', 'human_full_size.json'),\n",
       "             (u'targets', 'targets.bin')])"
      ]
     },
     "execution_count": 13,
     "metadata": {},
     "output_type": "execute_result"
    }
   ],
   "source": [
    "data"
   ]
  },
  {
   "cell_type": "code",
   "execution_count": 14,
   "metadata": {
    "ExecuteTime": {
     "end_time": "2016-11-28T14:49:13.048878",
     "start_time": "2016-11-28T14:49:12.587421"
    },
    "collapsed": true
   },
   "outputs": [],
   "source": [
    "json.dump(data,open(infile,'w'),indent=2)"
   ]
  },
  {
   "cell_type": "code",
   "execution_count": null,
   "metadata": {
    "collapsed": true
   },
   "outputs": [],
   "source": []
  }
 ],
 "metadata": {
  "kernelspec": {
   "display_name": "Python 2",
   "language": "python",
   "name": "python2"
  },
  "language_info": {
   "codemirror_mode": {
    "name": "ipython",
    "version": 2
   },
   "file_extension": ".py",
   "mimetype": "text/x-python",
   "name": "python",
   "nbconvert_exporter": "python",
   "pygments_lexer": "ipython2",
   "version": "2.7.9"
  }
 },
 "nbformat": 4,
 "nbformat_minor": 1
}
