{
 "cells": [
  {
   "cell_type": "code",
   "execution_count": 1,
   "metadata": {
    "ExecuteTime": {
     "end_time": "2017-06-17T13:54:38.309988+08:00",
     "start_time": "2017-06-17T13:54:38.160236"
    }
   },
   "outputs": [],
   "source": [
    "import bpy\n",
    "import bmesh\n",
    "import numpy as np"
   ]
  },
  {
   "cell_type": "code",
   "execution_count": 2,
   "metadata": {
    "ExecuteTime": {
     "end_time": "2017-06-17T13:54:38.396292+08:00",
     "start_time": "2017-06-17T13:54:38.393122"
    },
    "collapsed": true
   },
   "outputs": [],
   "source": [
    "# makehuman input\n",
    "obj_base0 = '/home/isisilon/Downloads/base.obj'\n",
    "# makehuman export\n",
    "obj_base1 = '/home/isisilon/Downloads/standard_export_gui_110.obj'\n",
    "\n",
    "\n",
    "# import then makehuman-js export\n",
    "obj_export0 = '/home/isisilon/Downloads/unmodified_export_with_helpers.obj'\n",
    "# obj_export1 = '/home/isisilon/Downloads/helper_removed_in_blender.obj'"
   ]
  },
  {
   "cell_type": "code",
   "execution_count": null,
   "metadata": {
    "ExecuteTime": {
     "end_time": "2017-06-17T13:42:19.639816+08:00",
     "start_time": "2017-06-17T13:42:19.178595"
    }
   },
   "outputs": [],
   "source": []
  },
  {
   "cell_type": "code",
   "execution_count": null,
   "metadata": {
    "ExecuteTime": {
     "end_time": "2017-06-17T13:51:33.269294+08:00",
     "start_time": "2017-06-17T13:51:33.263018"
    }
   },
   "outputs": [],
   "source": []
  },
  {
   "cell_type": "code",
   "execution_count": 10,
   "metadata": {
    "ExecuteTime": {
     "end_time": "2017-06-17T13:57:45.204841+08:00",
     "start_time": "2017-06-17T13:57:43.434518"
    }
   },
   "outputs": [
    {
     "name": "stdout",
     "output_type": "stream",
     "text": [
      "\n",
      "importing obj '/home/isisilon/Downloads/base.obj'\n",
      "\tparsing obj file...\n",
      "0.1720 sec\n",
      "\tloading materials and images...\n",
      "0.0001 sec\n",
      "\tbuilding geometry...\n",
      "\tverts:19158 faces:18486 materials: 1 smoothgroups:0 ...\n",
      "finished importing: b'/home/isisilon/Downloads/base.obj' in 0.4054 sec.\n",
      "/home/isisilon/Downloads/base.obj\n",
      "[ 2.87173875  1.          0.60543413]\n",
      "\n",
      "importing obj '/home/isisilon/Downloads/standard_export_gui_110.obj'\n",
      "\tparsing obj file...\n",
      "0.1282 sec\n",
      "\tloading materials and images...\n",
      "\tMaterial not found MTL: b'/home/isisilon/Downloads/standard_export_gui_110.mtl'\n",
      "0.0001 sec\n",
      "\tbuilding geometry...\n",
      "\tverts:13380 faces:13378 materials: 2 smoothgroups:0 ...\n",
      "finished importing: b'/home/isisilon/Downloads/standard_export_gui_110.obj' in 0.2759 sec.\n",
      "/home/isisilon/Downloads/standard_export_gui_110.obj\n",
      "[ 2.94976997  1.          0.96845964]\n",
      "\n",
      "importing obj '/home/isisilon/Downloads/unmodified_export_with_helpers.obj'\n",
      "\tparsing obj file...\n",
      "0.3589 sec\n",
      "\tloading materials and images...\n",
      "0.0002 sec\n",
      "\tbuilding geometry...\n",
      "\tverts:19158 faces:36972 materials: 1 smoothgroups:0 ...\n",
      "finished importing: b'/home/isisilon/Downloads/unmodified_export_with_helpers.obj' in 0.7632 sec.\n",
      "/home/isisilon/Downloads/unmodified_export_with_helpers.obj\n",
      "[ 2.6986875   1.          0.63126005]\n"
     ]
    }
   ],
   "source": [
    "for infile in [obj_base0, obj_base1, obj_export0]:\n",
    "    bpy.ops.import_scene.obj(\n",
    "        filepath=infile, \n",
    "        filter_glob=\"*.obj;*.mtl\", \n",
    "        use_ngons=True, \n",
    "        use_edges=True, \n",
    "        use_smooth_groups=True, \n",
    "        use_split_objects=True, \n",
    "        use_split_groups=True, \n",
    "        use_groups_as_vgroups=False, \n",
    "        use_image_search=True, \n",
    "        split_mode='ON', \n",
    "        global_clamp_size=0, \n",
    "        axis_forward='-Z', \n",
    "        axis_up='Y'\n",
    "    )\n",
    "\n",
    "    # put body in edit mode\n",
    "    scene = bpy.context.scene\n",
    "    scene.layers = [True] * 20 # Show all layers\n",
    "    list(scene.objects)\n",
    "    for obj in scene.objects:\n",
    "        if obj.type == 'MESH':\n",
    "            if obj.name in ['body','base.obj','default','data/skins/young_caucasian_female/young_caucasian_female.json']:\n",
    "                scene.objects.active = obj\n",
    "                bpy.ops.object.mode_set(mode='EDIT')\n",
    "    scene.objects.active,bpy.context.object\n",
    "\n",
    "    # select eye vertices\n",
    "    #bpy.app.debug = True\n",
    "\n",
    "    bust = [8439,8455,8462,8446,8478,8494,8557,8510,8526,8542,10720,10601,10603,10602,10612,10611,10610,10613,10604,10605,10606,3942,3941,3940,3950,3947,3948,3949,3938,3939,3937,4065,1870,1854,1838,1885,1822,1806,1774,1790,1783,1767,1799,8471]\n",
    "    waist = [4121,10760,10757,10777,10776,10779,10780,10778,10781,10771,10773,10772,10775,10774,10814,10834,10816,10817,10818,10819,10820,10821,4181,4180,4179,4178,4177,4176,4175,4196,4173,4131,4132,4129,4130,4128,4138,4135,4137,4136,4133,4134,4108,4113,4118,4121]\n",
    "    hips = [4341,10968,10969,10971,10970,10967,10928,10927,10925,10926,10923,10924,10868,10875,10861,10862,4228,4227,4226,4242,4234,4294,4293,4296,4295,4297,4298,4342,4345,4346,4344,4343,4361,4341]\n",
    "\n",
    "    # eye loop (or should be)\n",
    "    extra = [1, 2, 54, 60, 64, 68, 75, 76, 80, 84, 1152, 1153, 1156, 1158, 1160, 1170, 1171, 1174, 1175, 1179, 1182, 1183, 1186, 1187, 1190, 1191, 1194, 5402]\n",
    "\n",
    "    index = extra\n",
    "\n",
    "    # measures vertices in mh templates here\n",
    "\n",
    "    obj = bpy.context.object\n",
    "    me = obj.data\n",
    "    bm = bmesh.from_edit_mesh(me)\n",
    "\n",
    "    vertices= [e for e in bm.verts]\n",
    "    oa = bpy.context.active_object\n",
    "\n",
    "    data=[]\n",
    "    for vert in vertices:\n",
    "        if vert.index in index:\n",
    "            vert.select = True\n",
    "#             print(vert.co)\n",
    "            data.append([vert.co.x, vert.co.y, vert.co.z])\n",
    "        else:\n",
    "            vert.select = False\n",
    "\n",
    "    bmesh.update_edit_mesh(me, True)\n",
    "\n",
    "    data=np.array(data)\n",
    "    dif = data.max(0)-data.min(0)\n",
    "    print(infile)\n",
    "    print(dif/dif[1])\n",
    "    \n",
    "    # delete objs\n",
    "    bpy.ops.object.mode_set(mode='OBJECT')\n",
    "    bpy.ops.object.select_by_type(type='MESH')\n",
    "    bpy.ops.object.delete(use_global=False)\n",
    "\n",
    "    for item in bpy.data.meshes:\n",
    "        bpy.data.meshes.remove(item)"
   ]
  },
  {
   "cell_type": "code",
   "execution_count": 8,
   "metadata": {
    "ExecuteTime": {
     "end_time": "2017-06-17T13:56:54.216599+08:00",
     "start_time": "2017-06-17T13:56:54.213250"
    }
   },
   "outputs": [
    {
     "data": {
      "text/plain": [
       "[bpy.data.objects['Lamp'], bpy.data.objects['Camera']]"
      ]
     },
     "execution_count": 8,
     "metadata": {},
     "output_type": "execute_result"
    }
   ],
   "source": [
    "list(scene.objects)"
   ]
  },
  {
   "cell_type": "code",
   "execution_count": 7,
   "metadata": {
    "ExecuteTime": {
     "end_time": "2017-06-17T13:56:52.491730+08:00",
     "start_time": "2017-06-17T13:56:52.443578"
    },
    "collapsed": true
   },
   "outputs": [],
   "source": []
  },
  {
   "cell_type": "code",
   "execution_count": null,
   "metadata": {
    "collapsed": true
   },
   "outputs": [],
   "source": []
  }
 ],
 "metadata": {
  "kernelspec": {
   "display_name": "Blender env",
   "language": "python",
   "name": "blender"
  },
  "language_info": {
   "codemirror_mode": {
    "name": "ipython",
    "version": 3
   },
   "file_extension": ".py",
   "mimetype": "text/x-python",
   "name": "python",
   "nbconvert_exporter": "python",
   "pygments_lexer": "ipython3",
   "version": "3.4.2"
  }
 },
 "nbformat": 4,
 "nbformat_minor": 2
}
