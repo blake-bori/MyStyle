{
 "cells": [
  {
   "cell_type": "code",
   "execution_count": 1,
   "metadata": {
    "ExecuteTime": {
     "end_time": "2017-06-10T02:32:02.194818Z",
     "start_time": "2017-06-10T10:32:01.121348+08:00"
    }
   },
   "outputs": [
    {
     "name": "stdout",
     "output_type": "stream",
     "text": [
      "Using matplotlib backend: agg\n",
      "Populating the interactive namespace from numpy and matplotlib\n"
     ]
    },
    {
     "name": "stderr",
     "output_type": "stream",
     "text": [
      "/home/isisilon/.pyenv/versions/3.6.0/envs/jupyter3/lib/python3.6/site-packages/IPython/core/magics/pylab.py:161: UserWarning: pylab import has clobbered these variables: ['arrow']\n",
      "`%matplotlib` prevents importing * from pylab and numpy\n",
      "  \"\\n`%matplotlib` prevents importing * from pylab and numpy\"\n"
     ]
    }
   ],
   "source": [
    "import re, json, time, arrow\n",
    "from path import Path\n",
    "from glob import glob\n",
    "from tqdm import tqdm_notebook as tqdm\n",
    "%pylab\n",
    "%matplotlib inline\n",
    "import pandas as pd\n",
    "import seaborn as sns"
   ]
  },
  {
   "cell_type": "code",
   "execution_count": 2,
   "metadata": {
    "ExecuteTime": {
     "end_time": "2017-06-10T02:32:02.200695Z",
     "start_time": "2017-06-10T10:32:02.197244+08:00"
    },
    "collapsed": true
   },
   "outputs": [],
   "source": [
    "base_dir = Path('..')"
   ]
  },
  {
   "cell_type": "code",
   "execution_count": 3,
   "metadata": {
    "ExecuteTime": {
     "end_time": "2017-06-10T02:32:02.217791Z",
     "start_time": "2017-06-10T10:32:02.204379+08:00"
    }
   },
   "outputs": [],
   "source": [
    "# find all files\n",
    "\n",
    "def find_files(root, extensions=['.py','.json','.txt','.js','.obj','.mhclo', '.md'], blacklist=['node_modules','.git','notes','.tmp']):\n",
    "    myfile = []\n",
    "    for root, dirs, files in os.walk(root, topdown=False):\n",
    "        for name in files:\n",
    "            if any([m in name for m in blacklist]) or any([m in root for m in blacklist]):\n",
    "#                 print('skipped',name)\n",
    "                continue\n",
    "            filename, ext = os.path.splitext(name)\n",
    "            if ext in extensions:\n",
    "                file = os.path.join(root, name)\n",
    "                myfile.append(file)\n",
    "    return myfile\n"
   ]
  },
  {
   "cell_type": "code",
   "execution_count": 4,
   "metadata": {
    "ExecuteTime": {
     "end_time": "2017-06-10T02:32:02.241703Z",
     "start_time": "2017-06-10T10:32:02.220615+08:00"
    }
   },
   "outputs": [
    {
     "data": {
      "text/plain": [
       "False"
      ]
     },
     "execution_count": 4,
     "metadata": {},
     "output_type": "execute_result"
    }
   ],
   "source": [
    "any([False])"
   ]
  },
  {
   "cell_type": "code",
   "execution_count": null,
   "metadata": {
    "ExecuteTime": {
     "end_time": "2017-06-10T01:54:11.557147Z",
     "start_time": "2017-06-10T09:54:09.434152+08:00"
    }
   },
   "outputs": [],
   "source": []
  },
  {
   "cell_type": "code",
   "execution_count": 5,
   "metadata": {
    "ExecuteTime": {
     "end_time": "2017-06-10T02:32:02.961310Z",
     "start_time": "2017-06-10T10:32:02.244529+08:00"
    }
   },
   "outputs": [
    {
     "name": "stdout",
     "output_type": "stream",
     "text": [
      "26\n",
      "210\n"
     ]
    }
   ],
   "source": [
    "my_files=find_files('..')\n",
    "print(len(my_files))\n",
    "mkfile = find_files('/media/isisilon/Data/My_Documents/Documents/eclipse-workspace/VAE_makehuman/vendor/makehuman-commandline2/makehuman')\n",
    "print(len(mkfile))"
   ]
  },
  {
   "cell_type": "code",
   "execution_count": 6,
   "metadata": {
    "ExecuteTime": {
     "end_time": "2017-06-10T02:32:03.058894Z",
     "start_time": "2017-06-10T10:32:02.963250+08:00"
    }
   },
   "outputs": [
    {
     "data": {
      "application/vnd.jupyter.widget-view+json": {
       "model_id": "0b17666ab959416283eb38d8dd6ded82"
      }
     },
     "metadata": {},
     "output_type": "display_data"
    },
    {
     "name": "stdout",
     "output_type": "stream",
     "text": [
      "\n"
     ]
    },
    {
     "data": {
      "text/plain": [
       "210"
      ]
     },
     "execution_count": 6,
     "metadata": {},
     "output_type": "execute_result"
    }
   ],
   "source": [
    "mhstrings = dict()\n",
    "for infile in tqdm(mkfile):\n",
    "    try:\n",
    "        mhstrings[infile]=open(infile).read()\n",
    "    except:\n",
    "        pass\n",
    "len(mhstrings)"
   ]
  },
  {
   "cell_type": "code",
   "execution_count": 7,
   "metadata": {
    "ExecuteTime": {
     "end_time": "2017-06-10T02:32:03.065892Z",
     "start_time": "2017-06-10T10:32:03.061662+08:00"
    }
   },
   "outputs": [],
   "source": [
    "# import re\n",
    "# mhstring2 = re.sub('[^\\w ]','',mhstring)\n",
    "# mhstring2 = re.sub('  +',' ',mhstring2)\n",
    "# len(mhstring), len(mhstring2)"
   ]
  },
  {
   "cell_type": "code",
   "execution_count": 8,
   "metadata": {
    "ExecuteTime": {
     "end_time": "2017-06-10T02:32:06.131492Z",
     "start_time": "2017-06-10T10:32:03.068991+08:00"
    },
    "scrolled": true
   },
   "outputs": [
    {
     "data": {
      "application/vnd.jupyter.widget-view+json": {
       "model_id": "a41ef311176244f0b298f447fb03720b"
      }
     },
     "metadata": {},
     "output_type": "display_data"
    },
    {
     "name": "stdout",
     "output_type": "stream",
     "text": [
      "../src/js/human/human-modifier.js#494 & /media/isisilon/Data/My_Documents/Documents/eclipse-workspace/VAE_makehuman/vendor/makehuman-commandline2/makehuman/apps/humanmodifier.py: match 'oldVals[modifier.fullName] = modifier.getValue()' '):\\n            oldVals[modifier.fullName] = modifier.getValue()\\n            mo'\n",
      "../src/js/human/human-modifier.js#565 & /media/isisilon/Data/My_Documents/Documents/eclipse-workspace/VAE_makehuman/vendor/makehuman-commandline2/makehuman/apps/humanmodifier.py: match 'lookup[modifier.fullName] = modifier' 'r)\\n            lookup[modifier.fullName] = modifier\\n    if human i'\n",
      "../src/js/human/human-modifier.js#596 & /media/isisilon/Data/My_Documents/Documents/eclipse-workspace/VAE_makehuman/vendor/makehuman-commandline2/makehuman/apps/human.py: match 'modifier.setValue(modifier.getValue())' '               modifier.setValue(modifier.getValue())\\n\\n    @property'\n",
      "../src/js/human/human-modifier.js#851 & /media/isisilon/Data/My_Documents/Documents/eclipse-workspace/VAE_makehuman/vendor/makehuman-commandline2/makehuman/plugins/0_modeling_8_random.py: match 'randomValues[m.fullName] = randomValue' 'e?\\n            randomValues[m.fullName] = randomValue\\n            sy'\n",
      "../src/js/human/human-modifier.js#853 & /media/isisilon/Data/My_Documents/Documents/eclipse-workspace/VAE_makehuman/vendor/makehuman-commandline2/makehuman/plugins/0_modeling_8_random.py: match 'symm = m.getSymmetricOpposite()' 'ue\\n            symm = m.getSymmetricOpposite()\\n            if'\n",
      "../src/js/human/human-modifier.js#856 & /media/isisilon/Data/My_Documents/Documents/eclipse-workspace/VAE_makehuman/vendor/makehuman-commandline2/makehuman/plugins/0_modeling_8_random.py: match 'randomValues[symm] = randomValue' '               randomValues[symm] = randomValue\\n              '\n",
      "../src/js/human/human-modifier.js#874 & /media/isisilon/Data/My_Documents/Documents/eclipse-workspace/VAE_makehuman/vendor/makehuman-commandline2/makehuman/plugins/0_modeling_8_random.py: match 'randomValues[\"stomach/stomach-pregnant-decr|incr\"] = 0' 's:\\n            randomValues[\"stomach/stomach-pregnant-decr|incr\"] = 0\\n\\n    oldValues'\n",
      "../src/js/human/human.js#475 & /media/isisilon/Data/My_Documents/Documents/eclipse-workspace/VAE_makehuman/vendor/makehuman-commandline2/makehuman/apps/human.py: match \"'neck', 'torso', 'hip', 'pelvis', 'r-upperarm', 'l-upperarm',\" \"outh', 'head', 'neck', 'torso', 'hip', 'pelvis', 'r-upperarm', 'l-upperarm', 'r-lowerarm', \"\n",
      "../src/js/human/human.js#477 & /media/isisilon/Data/My_Documents/Documents/eclipse-workspace/VAE_makehuman/vendor/makehuman-commandline2/makehuman/apps/human.py: match \"'l-upperleg', 'r-lowerleg', 'l-lowerleg', 'l-foot', 'r-foot', 'ear'\" \" 'r-upperleg', 'l-upperleg', 'r-lowerleg', 'l-lowerleg', 'l-foot', 'r-foot', 'ear']\\n\\n        self\"\n",
      "\n"
     ]
    },
    {
     "data": {
      "text/plain": [
       "9"
      ]
     },
     "execution_count": 8,
     "metadata": {},
     "output_type": "execute_result"
    }
   ],
   "source": [
    "p=15\n",
    "finds=[]\n",
    "for infile in tqdm(my_files):\n",
    "    for i, line in enumerate(open(infile)):\n",
    "        line = line.strip()\n",
    "        if len(line.strip())>30:\n",
    "            for mhfile in mhstrings:           \n",
    "                mhstring = mhstrings[mhfile]\n",
    "                ind = mhstring.find(line)\n",
    "                if ind>-1:\n",
    "                    match = mhstring[ind-p:ind+len(line)+p]\n",
    "                    finds.append(dict(infile=infile,line_number=i,mhfile=os.path.basename(mhfile),line=line,match=match))\n",
    "                    print('%s#%s & %s: match %r %r'%(infile,i, mhfile, line, match))\n",
    "                    break\n",
    "    #             else:\n",
    "    #                 ind = mhstring2.find(line)\n",
    "    #                 if ind==-1:\n",
    "    #                     match = mhstring2[ind-p:ind+len(line)+p]\n",
    "    #                     finds.append([infile,i,line,match])\n",
    "    #                     print('%s#%s: match %r %r'%(infile,i, line, match))\n",
    "                \n",
    "len(finds)"
   ]
  },
  {
   "cell_type": "code",
   "execution_count": 9,
   "metadata": {
    "ExecuteTime": {
     "end_time": "2017-06-10T02:32:06.151913Z",
     "start_time": "2017-06-10T10:32:06.133427+08:00"
    },
    "scrolled": true
   },
   "outputs": [
    {
     "data": {
      "text/html": [
       "<div>\n",
       "<table border=\"1\" class=\"dataframe\">\n",
       "  <thead>\n",
       "    <tr style=\"text-align: right;\">\n",
       "      <th></th>\n",
       "      <th>infile</th>\n",
       "      <th>line</th>\n",
       "      <th>line_number</th>\n",
       "      <th>match</th>\n",
       "      <th>mhfile</th>\n",
       "    </tr>\n",
       "  </thead>\n",
       "  <tbody>\n",
       "    <tr>\n",
       "      <th>0</th>\n",
       "      <td>../src/js/human/human-modifier.js</td>\n",
       "      <td>oldVals[modifier.fullName] = modifier.getValue()</td>\n",
       "      <td>494</td>\n",
       "      <td>):\\n            oldVals[modifier.fullName] = m...</td>\n",
       "      <td>humanmodifier.py</td>\n",
       "    </tr>\n",
       "    <tr>\n",
       "      <th>1</th>\n",
       "      <td>../src/js/human/human-modifier.js</td>\n",
       "      <td>lookup[modifier.fullName] = modifier</td>\n",
       "      <td>565</td>\n",
       "      <td>r)\\n            lookup[modifier.fullName] = mo...</td>\n",
       "      <td>humanmodifier.py</td>\n",
       "    </tr>\n",
       "    <tr>\n",
       "      <th>2</th>\n",
       "      <td>../src/js/human/human-modifier.js</td>\n",
       "      <td>modifier.setValue(modifier.getValue())</td>\n",
       "      <td>596</td>\n",
       "      <td>modifier.setValue(modifier.getV...</td>\n",
       "      <td>human.py</td>\n",
       "    </tr>\n",
       "    <tr>\n",
       "      <th>3</th>\n",
       "      <td>../src/js/human/human-modifier.js</td>\n",
       "      <td>randomValues[m.fullName] = randomValue</td>\n",
       "      <td>851</td>\n",
       "      <td>e?\\n            randomValues[m.fullName] = ran...</td>\n",
       "      <td>0_modeling_8_random.py</td>\n",
       "    </tr>\n",
       "    <tr>\n",
       "      <th>4</th>\n",
       "      <td>../src/js/human/human-modifier.js</td>\n",
       "      <td>symm = m.getSymmetricOpposite()</td>\n",
       "      <td>853</td>\n",
       "      <td>ue\\n            symm = m.getSymmetricOpposite(...</td>\n",
       "      <td>0_modeling_8_random.py</td>\n",
       "    </tr>\n",
       "    <tr>\n",
       "      <th>5</th>\n",
       "      <td>../src/js/human/human-modifier.js</td>\n",
       "      <td>randomValues[symm] = randomValue</td>\n",
       "      <td>856</td>\n",
       "      <td>randomValues[symm] = randomValu...</td>\n",
       "      <td>0_modeling_8_random.py</td>\n",
       "    </tr>\n",
       "    <tr>\n",
       "      <th>6</th>\n",
       "      <td>../src/js/human/human-modifier.js</td>\n",
       "      <td>randomValues[\"stomach/stomach-pregnant-decr|in...</td>\n",
       "      <td>874</td>\n",
       "      <td>s:\\n            randomValues[\"stomach/stomach-...</td>\n",
       "      <td>0_modeling_8_random.py</td>\n",
       "    </tr>\n",
       "    <tr>\n",
       "      <th>7</th>\n",
       "      <td>../src/js/human/human.js</td>\n",
       "      <td>'neck', 'torso', 'hip', 'pelvis', 'r-upperarm'...</td>\n",
       "      <td>475</td>\n",
       "      <td>outh', 'head', 'neck', 'torso', 'hip', 'pelvis...</td>\n",
       "      <td>human.py</td>\n",
       "    </tr>\n",
       "    <tr>\n",
       "      <th>8</th>\n",
       "      <td>../src/js/human/human.js</td>\n",
       "      <td>'l-upperleg', 'r-lowerleg', 'l-lowerleg', 'l-f...</td>\n",
       "      <td>477</td>\n",
       "      <td>'r-upperleg', 'l-upperleg', 'r-lowerleg', 'l-...</td>\n",
       "      <td>human.py</td>\n",
       "    </tr>\n",
       "  </tbody>\n",
       "</table>\n",
       "</div>"
      ],
      "text/plain": [
       "                              infile  \\\n",
       "0  ../src/js/human/human-modifier.js   \n",
       "1  ../src/js/human/human-modifier.js   \n",
       "2  ../src/js/human/human-modifier.js   \n",
       "3  ../src/js/human/human-modifier.js   \n",
       "4  ../src/js/human/human-modifier.js   \n",
       "5  ../src/js/human/human-modifier.js   \n",
       "6  ../src/js/human/human-modifier.js   \n",
       "7           ../src/js/human/human.js   \n",
       "8           ../src/js/human/human.js   \n",
       "\n",
       "                                                line  line_number  \\\n",
       "0   oldVals[modifier.fullName] = modifier.getValue()          494   \n",
       "1               lookup[modifier.fullName] = modifier          565   \n",
       "2             modifier.setValue(modifier.getValue())          596   \n",
       "3             randomValues[m.fullName] = randomValue          851   \n",
       "4                    symm = m.getSymmetricOpposite()          853   \n",
       "5                   randomValues[symm] = randomValue          856   \n",
       "6  randomValues[\"stomach/stomach-pregnant-decr|in...          874   \n",
       "7  'neck', 'torso', 'hip', 'pelvis', 'r-upperarm'...          475   \n",
       "8  'l-upperleg', 'r-lowerleg', 'l-lowerleg', 'l-f...          477   \n",
       "\n",
       "                                               match                  mhfile  \n",
       "0  ):\\n            oldVals[modifier.fullName] = m...        humanmodifier.py  \n",
       "1  r)\\n            lookup[modifier.fullName] = mo...        humanmodifier.py  \n",
       "2                 modifier.setValue(modifier.getV...                human.py  \n",
       "3  e?\\n            randomValues[m.fullName] = ran...  0_modeling_8_random.py  \n",
       "4  ue\\n            symm = m.getSymmetricOpposite(...  0_modeling_8_random.py  \n",
       "5                 randomValues[symm] = randomValu...  0_modeling_8_random.py  \n",
       "6  s:\\n            randomValues[\"stomach/stomach-...  0_modeling_8_random.py  \n",
       "7  outh', 'head', 'neck', 'torso', 'hip', 'pelvis...                human.py  \n",
       "8   'r-upperleg', 'l-upperleg', 'r-lowerleg', 'l-...                human.py  "
      ]
     },
     "execution_count": 9,
     "metadata": {},
     "output_type": "execute_result"
    }
   ],
   "source": [
    "df = pd.DataFrame(finds)\n",
    "df=df.sort_values(['infile','line_number'])\n",
    "df"
   ]
  },
  {
   "cell_type": "code",
   "execution_count": 10,
   "metadata": {
    "ExecuteTime": {
     "end_time": "2017-06-10T02:32:06.165954Z",
     "start_time": "2017-06-10T10:32:06.154159+08:00"
    }
   },
   "outputs": [],
   "source": [
    "# import jellyfish\n",
    "# p=15\n",
    "# finds2=[]\n",
    "# for infile in tqdm(my_files):\n",
    "#     for i, line in enumerate(open(infile)):\n",
    "#         if len(line.strip())>30:\n",
    "#             dist = jellyfish.levenshtein_distance(line, mhstring)\n",
    "#             if dist<10:\n",
    "#                 finds2.append(infile,i,line,dist)\n",
    "#                 print('%s#%s: match %r %r'%(infile,i, line, match))\n",
    "#                 break\n",
    "# len(finds2)"
   ]
  },
  {
   "cell_type": "code",
   "execution_count": 11,
   "metadata": {
    "ExecuteTime": {
     "end_time": "2017-06-10T02:32:06.183466Z",
     "start_time": "2017-06-10T10:32:06.168374+08:00"
    }
   },
   "outputs": [
    {
     "data": {
      "text/plain": [
       "'}'"
      ]
     },
     "execution_count": 11,
     "metadata": {},
     "output_type": "execute_result"
    }
   ],
   "source": [
    "line"
   ]
  },
  {
   "cell_type": "code",
   "execution_count": null,
   "metadata": {
    "ExecuteTime": {
     "end_time": "2017-06-10T01:40:18.505563Z",
     "start_time": "2017-06-10T09:40:18.454579+08:00"
    },
    "collapsed": true
   },
   "outputs": [],
   "source": []
  },
  {
   "cell_type": "code",
   "execution_count": null,
   "metadata": {
    "collapsed": true
   },
   "outputs": [],
   "source": []
  }
 ],
 "metadata": {
  "kernelspec": {
   "display_name": "jupyter3",
   "language": "python",
   "name": "jupyter3"
  },
  "language_info": {
   "codemirror_mode": {
    "name": "ipython",
    "version": 3
   },
   "file_extension": ".py",
   "mimetype": "text/x-python",
   "name": "python",
   "nbconvert_exporter": "python",
   "pygments_lexer": "ipython3",
   "version": "3.6.0"
  }
 },
 "nbformat": 4,
 "nbformat_minor": 2
}
