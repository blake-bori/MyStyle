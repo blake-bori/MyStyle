{
 "cells": [
  {
   "cell_type": "code",
   "execution_count": 1,
   "metadata": {
    "ExecuteTime": {
     "end_time": "2017-06-17T05:03:49.872769Z",
     "start_time": "2017-06-17T13:03:49.428634+08:00"
    }
   },
   "outputs": [
    {
     "name": "stdout",
     "output_type": "stream",
     "text": [
      "Using matplotlib backend: TkAgg\n",
      "Populating the interactive namespace from numpy and matplotlib\n"
     ]
    }
   ],
   "source": [
    "%pylab\n",
    "%matplotlib inline\n",
    "import pandas as pd\n",
    "import numpy as np\n",
    "import seaborn as sns\n",
    "import collections"
   ]
  },
  {
   "cell_type": "code",
   "execution_count": 2,
   "metadata": {
    "ExecuteTime": {
     "end_time": "2017-06-17T05:03:49.956403Z",
     "start_time": "2017-06-17T13:03:49.874223+08:00"
    },
    "collapsed": true
   },
   "outputs": [],
   "source": [
    "%reload_ext autoreload\n",
    "%autoreload 2"
   ]
  },
  {
   "cell_type": "code",
   "execution_count": 104,
   "metadata": {
    "ExecuteTime": {
     "end_time": "2017-06-17T05:41:49.433565Z",
     "start_time": "2017-06-17T13:41:49.420096+08:00"
    },
    "collapsed": true
   },
   "outputs": [],
   "source": [
    "# makehuman input\n",
    "obj_base0 = '/home/isisilon/Downloads/base.obj'\n",
    "# makehuman export\n",
    "obj_base1 = '/home/isisilon/Downloads/standard_export_gui_110.obj'\n",
    "\n",
    "\n",
    "# import then makehuman-js export\n",
    "obj_export0 = '/home/isisilon/Downloads/unmodified_export_with_helpers.obj'\n",
    "# obj_export1 = '/home/isisilon/Downloads/helper_removed_in_blender.obj'"
   ]
  },
  {
   "cell_type": "code",
   "execution_count": 118,
   "metadata": {
    "ExecuteTime": {
     "end_time": "2017-06-17T05:47:16.966165Z",
     "start_time": "2017-06-17T13:47:16.887915+08:00"
    },
    "code_folding": []
   },
   "outputs": [],
   "source": [
    "def parse_obj(infile):\n",
    "    print(infile)\n",
    "    lines = open(infile).readlines()\n",
    "    \n",
    "    \n",
    "    # collect lines\n",
    "    data=collections.defaultdict(list)\n",
    "    group = 'default'\n",
    "    data['gf']={group:[]}\n",
    "    data['gv']={group:[]}\n",
    "    for line in lines:\n",
    "        line = line.strip()\n",
    "        if line.startswith('#'): continue\n",
    "        if line=='': continue\n",
    "        t, content = line.split(' ',1)\n",
    "        if t=='g':\n",
    "            group = content\n",
    "            data['gf'][group]=[]\n",
    "            data['gv'][group]=[]\n",
    "        elif t=='v':\n",
    "            d = [float(i) for i in content.strip().split(' ')]\n",
    "            data['v'].append(d)\n",
    "        elif t=='f':\n",
    "            d = [[int(n) for n in d.split('/')] for d in content.split(' ')]\n",
    "            data['f'].append(d)\n",
    "            \n",
    "            # record faces\n",
    "            data['gf'][group].append(d)\n",
    "            \n",
    "            # record vertices for the group\n",
    "            fv=np.array(d)[:,0].tolist()\n",
    "            data['gv'][group]+=fv\n",
    "        elif t=='vt': \n",
    "            d = [float(i) for i in content.strip().split(' ')]\n",
    "            data['vt'].append(d)    \n",
    "        elif t=='vn': \n",
    "            d = [float(i) for i in content.strip().split(' ')]\n",
    "            data['vn'].append(d)    \n",
    "        elif t=='o': pass\n",
    "        elif t=='s': pass\n",
    "    \n",
    "    # make into numpy arrays\n",
    "    data['f']=np.array(data['f'])\n",
    "    data['v']=np.array(data['v'])\n",
    "    data['vn']=np.array(data['vn'])\n",
    "    data['vt']=np.array(data['vt'])\n",
    "    for group in data['gf']:\n",
    "        data['gf'][group]=np.unique(data['gf'][group])\n",
    "        data['gv'][group]=np.unique(data['gv'][group])\n",
    "        \n",
    "    # file length\n",
    "#     print (len(set(lines)),len(lines))\n",
    "\n",
    "    # lens\n",
    "    print([[k,len(v)] for k,v in data.items()])\n",
    "    \n",
    "    # group lens\n",
    "    gfc=sorted([[len(np.unique(v)),k] for k,v in data['gf'].items()])\n",
    "    largest_group = gfc[-1][1]\n",
    "    print(largest_group)\n",
    "    \n",
    "    print('faces in largest group', len(data['gf'][largest_group]))\n",
    "    print('len vert in largest group', len(data['gv'][largest_group]))\n",
    "    print('max vert in largest group', max(data['gv'][largest_group]))\n",
    "    print('min vert in largest group', min(data['gv'][largest_group]))\n",
    "    \n",
    "        \n",
    "    return data\n",
    "\n",
    "# and pandas?\n",
    "# df_v = pd.DataFrame(data['v'], columns=['x','y','z'])\n",
    "# df_f_v = pd.DataFrame(data['f'][:,:,0], columns=['va','vb','vc'])\n",
    "\n",
    "def get_eye_loop(data):\n",
    "    # lets look at eye loop position\n",
    "    eye_vert_nb = [1, 2, 54, 60, 64, 68, 75, 76, 80, 84, 1152, 1153, 1156, 1158, 1160, 1170, 1171, 1174, 1175, 1179, 1182, 1183, 1186, 1187, 1190, 1191, 1194, 5402]\n",
    "    df_verts = pd.DataFrame(data['v'], columns=['x','y','z'])\n",
    "    df_eye_verts = df_verts.iloc[eye_vert_nb]\n",
    "    dif=(df_verts.max(0)-df_verts.min(0))\n",
    "    print dif/dif.y\n",
    "#     return df_eye_verts.describe()"
   ]
  },
  {
   "cell_type": "code",
   "execution_count": 119,
   "metadata": {
    "ExecuteTime": {
     "end_time": "2017-06-17T05:47:17.125535Z",
     "start_time": "2017-06-17T13:47:17.104071+08:00"
    }
   },
   "outputs": [
    {
     "ename": "NameError",
     "evalue": "name 'obj_export1' is not defined",
     "output_type": "error",
     "traceback": [
      "\u001b[0;31m---------------------------------------------------------------------------\u001b[0m",
      "\u001b[0;31mNameError\u001b[0m                                 Traceback (most recent call last)",
      "\u001b[0;32m<ipython-input-119-e1b548ca22fe>\u001b[0m in \u001b[0;36m<module>\u001b[0;34m()\u001b[0m\n\u001b[0;32m----> 1\u001b[0;31m \u001b[0mdata1\u001b[0m \u001b[0;34m=\u001b[0m \u001b[0mparse_obj\u001b[0m\u001b[0;34m(\u001b[0m\u001b[0mobj_export1\u001b[0m\u001b[0;34m)\u001b[0m\u001b[0;34m\u001b[0m\u001b[0m\n\u001b[0m\u001b[1;32m      2\u001b[0m \u001b[0mget_eye_loop\u001b[0m\u001b[0;34m(\u001b[0m\u001b[0mdata1\u001b[0m\u001b[0;34m)\u001b[0m\u001b[0;34m\u001b[0m\u001b[0m\n",
      "\u001b[0;31mNameError\u001b[0m: name 'obj_export1' is not defined"
     ]
    }
   ],
   "source": [
    "data1 = parse_obj(obj_export1)  \n",
    "get_eye_loop(data1)"
   ]
  },
  {
   "cell_type": "code",
   "execution_count": 120,
   "metadata": {
    "ExecuteTime": {
     "end_time": "2017-06-17T05:47:18.468250Z",
     "start_time": "2017-06-17T13:47:17.441247+08:00"
    }
   },
   "outputs": [
    {
     "name": "stdout",
     "output_type": "stream",
     "text": [
      "/home/isisilon/Downloads/unmodified_export_with_helpers.obj\n",
      "[['gv', 140], ['f', 36972], ['vn', 0], ['gf', 140], ['vt', 110916], ['v', 19158]]\n",
      "data/skins/young_caucasian_female/young_caucasian_female.json\n",
      "('faces in largest group', 80268)\n",
      "('len vert in largest group', 13380)\n",
      "('max vert in largest group', 13380)\n",
      "('min vert in largest group', 1)\n",
      "x    0.586964\n",
      "y    1.000000\n",
      "z    0.257284\n",
      "dtype: float64\n"
     ]
    }
   ],
   "source": [
    "data2 = parse_obj(obj_export0)\n",
    "get_eye_loop(data2)"
   ]
  },
  {
   "cell_type": "code",
   "execution_count": null,
   "metadata": {
    "ExecuteTime": {
     "start_time": "2017-06-17T05:47:17.879Z"
    }
   },
   "outputs": [
    {
     "name": "stdout",
     "output_type": "stream",
     "text": [
      "/home/isisilon/Downloads/base.obj\n",
      "[['gv', 140], ['f', 18486], ['vn', 0], ['gf', 140], ['vt', 21334], ['v', 19158]]\n",
      "body\n",
      "('faces in largest group', 14517)\n",
      "('len vert in largest group', 13380)\n",
      "('max vert in largest group', 13380)\n",
      "('min vert in largest group', 1)\n",
      "x    0.586964\n",
      "y    1.000000\n",
      "z    0.257284\n",
      "dtype: float64\n"
     ]
    }
   ],
   "source": [
    "data3 = parse_obj(obj_base0)\n",
    "get_eye_loop(data3)"
   ]
  },
  {
   "cell_type": "code",
   "execution_count": null,
   "metadata": {
    "ExecuteTime": {
     "start_time": "2017-06-17T05:47:18.223Z"
    }
   },
   "outputs": [],
   "source": [
    "data4 = parse_obj(obj_base1)\n",
    "get_eye_loop(data4)"
   ]
  },
  {
   "cell_type": "markdown",
   "metadata": {
    "collapsed": true
   },
   "source": [
    "# json file"
   ]
  },
  {
   "cell_type": "code",
   "execution_count": 111,
   "metadata": {
    "ExecuteTime": {
     "end_time": "2017-06-17T05:42:02.302530Z",
     "start_time": "2017-06-17T13:42:02.290900+08:00"
    }
   },
   "outputs": [],
   "source": [
    "import json"
   ]
  },
  {
   "cell_type": "code",
   "execution_count": 112,
   "metadata": {
    "ExecuteTime": {
     "end_time": "2017-06-17T05:42:02.637802Z",
     "start_time": "2017-06-17T13:42:02.578657+08:00"
    }
   },
   "outputs": [
    {
     "data": {
      "text/plain": [
       "[u'morphColors',\n",
       " u'scale',\n",
       " u'normals',\n",
       " u'morphTargets',\n",
       " u'uvs',\n",
       " u'vertices',\n",
       " u'colors',\n",
       " u'materials',\n",
       " u'skinWeights',\n",
       " u'animations',\n",
       " u'bones',\n",
       " u'skinIndices',\n",
       " u'metadata',\n",
       " u'influencesPerVertex',\n",
       " u'faces']"
      ]
     },
     "execution_count": 112,
     "metadata": {},
     "output_type": "execute_result"
    }
   ],
   "source": [
    "jsonfile = '/media/isisilon/Data/My_Documents/Documents/eclipse-workspace/bb2/mhwebui2/makehuman-ui/node_modules/makehuman-data/public/data/models/human_full_size.json'\n",
    "json_data = json.load(open(jsonfile))\n",
    "json_data.keys()"
   ]
  },
  {
   "cell_type": "code",
   "execution_count": 113,
   "metadata": {
    "ExecuteTime": {
     "end_time": "2017-06-17T05:42:03.464028Z",
     "start_time": "2017-06-17T13:42:03.450630+08:00"
    }
   },
   "outputs": [],
   "source": [
    "basedir=r'/media/isisilon/Data/My_Documents/Documents/eclipse-workspace/bb2/mhwebui2/makehuman-data/scripts'\n",
    "os.sys.path.append(basedir)\n",
    "from convert_obj_three import convert_ascii"
   ]
  },
  {
   "cell_type": "code",
   "execution_count": 114,
   "metadata": {
    "ExecuteTime": {
     "end_time": "2017-06-17T05:42:03.799314Z",
     "start_time": "2017-06-17T13:42:03.786624+08:00"
    }
   },
   "outputs": [],
   "source": [
    "os.sys.path.append(basedir)\n",
    "# from convert_obj_three import generate_materials_string, create_materials, generate_materials, parse_obj\n",
    "from convert_obj_three import parse_obj\n",
    "# from export_makehuman import material_to_mtl, copyAndCompress"
   ]
  },
  {
   "cell_type": "code",
   "execution_count": null,
   "metadata": {
    "ExecuteTime": {
     "end_time": "2017-06-17T03:29:23.125621Z",
     "start_time": "2017-06-17T11:29:22.713677+08:00"
    }
   },
   "outputs": [],
   "source": []
  },
  {
   "cell_type": "code",
   "execution_count": 115,
   "metadata": {
    "ExecuteTime": {
     "end_time": "2017-06-17T05:42:04.915761Z",
     "start_time": "2017-06-17T13:42:04.507707+08:00"
    }
   },
   "outputs": [
    {
     "data": {
      "text/plain": [
       "defaultdict(list,\n",
       "            {'body': 13380,\n",
       "             'helper-genital': 200,\n",
       "             'helper-hair': 428,\n",
       "             'helper-l-eye': 72,\n",
       "             'helper-l-eyelashes-1': 60,\n",
       "             'helper-l-eyelashes-2': 65,\n",
       "             'helper-lower-teeth': 68,\n",
       "             'helper-r-eye': 72,\n",
       "             'helper-r-eyelashes-1': 60,\n",
       "             'helper-r-eyelashes-2': 65,\n",
       "             'helper-skirt': 720,\n",
       "             'helper-tights': 2674,\n",
       "             'helper-tongue': 226,\n",
       "             'helper-upper-teeth': 68,\n",
       "             'joint-ground': 8,\n",
       "             'joint-head': 8,\n",
       "             'joint-head-2': 8,\n",
       "             'joint-jaw': 8,\n",
       "             'joint-l-ankle': 8,\n",
       "             'joint-l-clavicle': 8,\n",
       "             'joint-l-elbow': 8,\n",
       "             'joint-l-eye': 8,\n",
       "             'joint-l-eye-target': 8,\n",
       "             'joint-l-finger-1-1': 8,\n",
       "             'joint-l-finger-1-2': 8,\n",
       "             'joint-l-finger-1-3': 8,\n",
       "             'joint-l-finger-1-4': 8,\n",
       "             'joint-l-finger-2-1': 8,\n",
       "             'joint-l-finger-2-2': 8,\n",
       "             'joint-l-finger-2-3': 8,\n",
       "             'joint-l-finger-2-4': 8,\n",
       "             'joint-l-finger-3-1': 8,\n",
       "             'joint-l-finger-3-2': 8,\n",
       "             'joint-l-finger-3-3': 8,\n",
       "             'joint-l-finger-3-4': 8,\n",
       "             'joint-l-finger-4-1': 8,\n",
       "             'joint-l-finger-4-2': 8,\n",
       "             'joint-l-finger-4-3': 8,\n",
       "             'joint-l-finger-4-4': 8,\n",
       "             'joint-l-finger-5-1': 8,\n",
       "             'joint-l-finger-5-2': 8,\n",
       "             'joint-l-finger-5-3': 8,\n",
       "             'joint-l-finger-5-4': 8,\n",
       "             'joint-l-foot-1': 8,\n",
       "             'joint-l-foot-2': 8,\n",
       "             'joint-l-hand': 8,\n",
       "             'joint-l-hand-2': 8,\n",
       "             'joint-l-hand-3': 8,\n",
       "             'joint-l-knee': 8,\n",
       "             'joint-l-lowerlid': 8,\n",
       "             'joint-l-scapula': 8,\n",
       "             'joint-l-shoulder': 8,\n",
       "             'joint-l-toe-1-1': 8,\n",
       "             'joint-l-toe-1-2': 8,\n",
       "             'joint-l-toe-1-3': 8,\n",
       "             'joint-l-toe-2-1': 8,\n",
       "             'joint-l-toe-2-2': 8,\n",
       "             'joint-l-toe-2-3': 8,\n",
       "             'joint-l-toe-2-4': 8,\n",
       "             'joint-l-toe-3-1': 8,\n",
       "             'joint-l-toe-3-2': 8,\n",
       "             'joint-l-toe-3-3': 8,\n",
       "             'joint-l-toe-3-4': 8,\n",
       "             'joint-l-toe-4-1': 8,\n",
       "             'joint-l-toe-4-2': 8,\n",
       "             'joint-l-toe-4-3': 8,\n",
       "             'joint-l-toe-4-4': 8,\n",
       "             'joint-l-toe-5-1': 8,\n",
       "             'joint-l-toe-5-2': 8,\n",
       "             'joint-l-toe-5-3': 8,\n",
       "             'joint-l-toe-5-4': 8,\n",
       "             'joint-l-upper-leg': 8,\n",
       "             'joint-l-upperlid': 8,\n",
       "             'joint-mouth': 8,\n",
       "             'joint-neck': 8,\n",
       "             'joint-pelvis': 8,\n",
       "             'joint-r-ankle': 8,\n",
       "             'joint-r-clavicle': 8,\n",
       "             'joint-r-elbow': 8,\n",
       "             'joint-r-eye': 8,\n",
       "             'joint-r-eye-target': 8,\n",
       "             'joint-r-finger-1-1': 8,\n",
       "             'joint-r-finger-1-2': 8,\n",
       "             'joint-r-finger-1-3': 8,\n",
       "             'joint-r-finger-1-4': 8,\n",
       "             'joint-r-finger-2-1': 8,\n",
       "             'joint-r-finger-2-2': 8,\n",
       "             'joint-r-finger-2-3': 8,\n",
       "             'joint-r-finger-2-4': 8,\n",
       "             'joint-r-finger-3-1': 8,\n",
       "             'joint-r-finger-3-2': 8,\n",
       "             'joint-r-finger-3-3': 8,\n",
       "             'joint-r-finger-3-4': 8,\n",
       "             'joint-r-finger-4-1': 8,\n",
       "             'joint-r-finger-4-2': 8,\n",
       "             'joint-r-finger-4-3': 8,\n",
       "             'joint-r-finger-4-4': 8,\n",
       "             'joint-r-finger-5-1': 8,\n",
       "             'joint-r-finger-5-2': 8,\n",
       "             'joint-r-finger-5-3': 8,\n",
       "             'joint-r-finger-5-4': 8,\n",
       "             'joint-r-foot-1': 8,\n",
       "             'joint-r-foot-2': 8,\n",
       "             'joint-r-hand': 8,\n",
       "             'joint-r-hand-2': 8,\n",
       "             'joint-r-hand-3': 8,\n",
       "             'joint-r-knee': 8,\n",
       "             'joint-r-lowerlid': 8,\n",
       "             'joint-r-scapula': 8,\n",
       "             'joint-r-shoulder': 8,\n",
       "             'joint-r-toe-1-1': 8,\n",
       "             'joint-r-toe-1-2': 8,\n",
       "             'joint-r-toe-1-3': 8,\n",
       "             'joint-r-toe-2-1': 8,\n",
       "             'joint-r-toe-2-2': 8,\n",
       "             'joint-r-toe-2-3': 8,\n",
       "             'joint-r-toe-2-4': 8,\n",
       "             'joint-r-toe-3-1': 8,\n",
       "             'joint-r-toe-3-2': 8,\n",
       "             'joint-r-toe-3-3': 8,\n",
       "             'joint-r-toe-3-4': 8,\n",
       "             'joint-r-toe-4-1': 8,\n",
       "             'joint-r-toe-4-2': 8,\n",
       "             'joint-r-toe-4-3': 8,\n",
       "             'joint-r-toe-4-4': 8,\n",
       "             'joint-r-toe-5-1': 8,\n",
       "             'joint-r-toe-5-2': 8,\n",
       "             'joint-r-toe-5-3': 8,\n",
       "             'joint-r-toe-5-4': 8,\n",
       "             'joint-r-upper-leg': 8,\n",
       "             'joint-r-upperlid': 8,\n",
       "             'joint-spine-1': 8,\n",
       "             'joint-spine-2': 8,\n",
       "             'joint-spine-3': 8,\n",
       "             'joint-spine-4': 8,\n",
       "             'joint-tongue-1': 8,\n",
       "             'joint-tongue-2': 8,\n",
       "             'joint-tongue-3': 8,\n",
       "             'joint-tongue-4': 8})"
      ]
     },
     "execution_count": 115,
     "metadata": {},
     "output_type": "execute_result"
    }
   ],
   "source": [
    "morphFaces, morphVertices, morphUvs, morphNormals, morphMaterials, morphMtllib = parse_obj(obj_base0)\n",
    "data = collections.defaultdict(list)\n",
    "for f in morphFaces:\n",
    "    data[f['group']]+=f['vertex']\n",
    "    \n",
    "for g in data:\n",
    "    data[g] = len(set(data[g]))\n",
    "#     data[g] = max(set(data[g]))\n",
    "data"
   ]
  },
  {
   "cell_type": "code",
   "execution_count": 116,
   "metadata": {
    "ExecuteTime": {
     "end_time": "2017-06-17T05:42:04.942288Z",
     "start_time": "2017-06-17T13:42:04.917062+08:00"
    }
   },
   "outputs": [
    {
     "data": {
      "text/plain": [
       "13378"
      ]
     },
     "execution_count": 116,
     "metadata": {},
     "output_type": "execute_result"
    }
   ],
   "source": [
    "fs=[f for f in morphFaces if f['group']=='body']\n",
    "len(fs)"
   ]
  },
  {
   "cell_type": "code",
   "execution_count": 117,
   "metadata": {
    "ExecuteTime": {
     "end_time": "2017-06-17T05:42:05.223237Z",
     "start_time": "2017-06-17T13:42:05.210985+08:00"
    }
   },
   "outputs": [
    {
     "data": {
      "text/plain": [
       "19158"
      ]
     },
     "execution_count": 117,
     "metadata": {},
     "output_type": "execute_result"
    }
   ],
   "source": [
    "len(morphVertices)"
   ]
  },
  {
   "cell_type": "code",
   "execution_count": null,
   "metadata": {
    "collapsed": true
   },
   "outputs": [],
   "source": []
  },
  {
   "cell_type": "code",
   "execution_count": null,
   "metadata": {
    "collapsed": true
   },
   "outputs": [],
   "source": []
  }
 ],
 "metadata": {
  "kernelspec": {
   "display_name": "ipython2",
   "language": "python",
   "name": "ipython2"
  },
  "language_info": {
   "codemirror_mode": {
    "name": "ipython",
    "version": 2
   },
   "file_extension": ".py",
   "mimetype": "text/x-python",
   "name": "python",
   "nbconvert_exporter": "python",
   "pygments_lexer": "ipython2",
   "version": "2.7.9"
  }
 },
 "nbformat": 4,
 "nbformat_minor": 2
}
